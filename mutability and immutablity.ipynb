{
 "cells": [
  {
   "cell_type": "code",
   "execution_count": 1,
   "id": "049f86b4-8341-4b19-8680-093c141dcf0a",
   "metadata": {},
   "outputs": [
    {
     "data": {
      "text/plain": [
       "6"
      ]
     },
     "execution_count": 1,
     "metadata": {},
     "output_type": "execute_result"
    }
   ],
   "source": [
    "a =6\n",
    "a # In  the memory , a memory block is create with  refrence name a and value 6"
   ]
  },
  {
   "cell_type": "code",
   "execution_count": 4,
   "id": "762eb5fa-0ef1-4766-9127-ee13c36f0eab",
   "metadata": {},
   "outputs": [
    {
     "data": {
      "text/plain": [
       "'Devesh'"
      ]
     },
     "execution_count": 4,
     "metadata": {},
     "output_type": "execute_result"
    }
   ],
   "source": [
    "b = \"Devesh\" #index D = 0 ,e=1,v=2,e=3,s=4,h=5 it has +ve index\n",
    "             #index D = -6,e=-5,v=-4,e=-3,s=-2,h=-1 it has -ve index   \n",
    "b"
   ]
  },
  {
   "cell_type": "code",
   "execution_count": 5,
   "id": "70824a99-80d2-44c9-bfaf-94aa12e35c5d",
   "metadata": {},
   "outputs": [
    {
     "data": {
      "text/plain": [
       "'D'"
      ]
     },
     "execution_count": 5,
     "metadata": {},
     "output_type": "execute_result"
    }
   ],
   "source": [
    "b[0]"
   ]
  },
  {
   "cell_type": "code",
   "execution_count": 6,
   "id": "7afde4e5-23c0-4864-9351-10eaeaedacdb",
   "metadata": {},
   "outputs": [
    {
     "data": {
      "text/plain": [
       "[1, 2, 3, 4, 5, True, 4.5, 'Devesh', (7+9j)]"
      ]
     },
     "execution_count": 6,
     "metadata": {},
     "output_type": "execute_result"
    }
   ],
   "source": [
    "# another type of data container \n",
    "list_container = [1,2,3,4,5,True,4.5 ,\"Devesh\",7+9j]\n",
    "list_container"
   ]
  },
  {
   "cell_type": "code",
   "execution_count": 7,
   "id": "7edcb015-2c8d-4c6f-be49-8cb797863e38",
   "metadata": {},
   "outputs": [
    {
     "data": {
      "text/plain": [
       "1"
      ]
     },
     "execution_count": 7,
     "metadata": {},
     "output_type": "execute_result"
    }
   ],
   "source": [
    "list_container[0]"
   ]
  },
  {
   "cell_type": "code",
   "execution_count": 8,
   "id": "55165a3d-a79f-4c21-8ea8-69f707f956ee",
   "metadata": {},
   "outputs": [
    {
     "data": {
      "text/plain": [
       "4"
      ]
     },
     "execution_count": 8,
     "metadata": {},
     "output_type": "execute_result"
    }
   ],
   "source": [
    "list_container[3]"
   ]
  },
  {
   "cell_type": "code",
   "execution_count": 9,
   "id": "88553658-2321-4ab5-af71-3afbd75e2d06",
   "metadata": {},
   "outputs": [
    {
     "data": {
      "text/plain": [
       "list"
      ]
     },
     "execution_count": 9,
     "metadata": {},
     "output_type": "execute_result"
    }
   ],
   "source": [
    "type(list_container)"
   ]
  },
  {
   "cell_type": "code",
   "execution_count": 10,
   "id": "8b00648c-bc72-4429-af82-bb314a78f74f",
   "metadata": {},
   "outputs": [
    {
     "data": {
      "text/plain": [
       "(7+9j)"
      ]
     },
     "execution_count": 10,
     "metadata": {},
     "output_type": "execute_result"
    }
   ],
   "source": [
    "list_container[-1]"
   ]
  },
  {
   "cell_type": "code",
   "execution_count": 11,
   "id": "2a4f866c-e442-4ea3-a183-75ea1139ff9a",
   "metadata": {},
   "outputs": [
    {
     "data": {
      "text/plain": [
       "'Sachin'"
      ]
     },
     "execution_count": 11,
     "metadata": {},
     "output_type": "execute_result"
    }
   ],
   "source": [
    "list_container[7] = \"Sachin\"\n",
    "list_container[7]"
   ]
  },
  {
   "cell_type": "code",
   "execution_count": 12,
   "id": "cffa09cc-abcc-4426-babd-c694fa9980e9",
   "metadata": {},
   "outputs": [
    {
     "data": {
      "text/plain": [
       "[1, 2, 3, 4, 5, True, 4.5, 'Sachin', (7+9j)]"
      ]
     },
     "execution_count": 12,
     "metadata": {},
     "output_type": "execute_result"
    }
   ],
   "source": [
    "list_container"
   ]
  },
  {
   "cell_type": "code",
   "execution_count": null,
   "id": "c3cbbf81-d97f-4507-bc5a-016fbdc1be0c",
   "metadata": {},
   "outputs": [],
   "source": [
    "# mutability  = objects / container whose state  or value can be changed after they are created are called as  mutable objects or container \n",
    "# list and Dictionary is a type of mutable objects or which supports items assignment\n",
    "# string  and tuple are immutable objects or does not supports items assignment..>>\n",
    "\"\"\"int\n",
    "float\n",
    "bool\n",
    "complex\n",
    "Strings\n",
    "tuples\n",
    "sets\"\"\"\n"
   ]
  }
 ],
 "metadata": {
  "kernelspec": {
   "display_name": "Python 3 (ipykernel)",
   "language": "python",
   "name": "python3"
  },
  "language_info": {
   "codemirror_mode": {
    "name": "ipython",
    "version": 3
   },
   "file_extension": ".py",
   "mimetype": "text/x-python",
   "name": "python",
   "nbconvert_exporter": "python",
   "pygments_lexer": "ipython3",
   "version": "3.13.2"
  }
 },
 "nbformat": 4,
 "nbformat_minor": 5
}
