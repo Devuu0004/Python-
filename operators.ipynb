{
 "cells": [
  {
   "cell_type": "code",
   "execution_count": null,
   "id": "4a888cdd-7923-4fb8-a6ae-2695ad70e950",
   "metadata": {},
   "outputs": [],
   "source": [
    "# Operators >>  special keywords to perform operation >> manage and computation"
   ]
  },
  {
   "cell_type": "code",
   "execution_count": 3,
   "id": "ec813e4e-7128-490b-abb5-e6ff763303b5",
   "metadata": {},
   "outputs": [
    {
     "data": {
      "text/plain": [
       "7"
      ]
     },
     "execution_count": 3,
     "metadata": {},
     "output_type": "execute_result"
    }
   ],
   "source": [
    "# Arithematic operator\n",
    "#1.Addtion\n",
    "a  = 3\n",
    "b  = 4 \n",
    "Add = a+b\n",
    "Add\n"
   ]
  },
  {
   "cell_type": "code",
   "execution_count": 4,
   "id": "c0c368e0-5bab-41ef-b0f3-6726074a238c",
   "metadata": {},
   "outputs": [
    {
     "data": {
      "text/plain": [
       "50"
      ]
     },
     "execution_count": 4,
     "metadata": {},
     "output_type": "execute_result"
    }
   ],
   "source": [
    "# 2 . Subtraction\n",
    "a = 100 \n",
    "b = 50\n",
    "sub = a-b\n",
    "sub"
   ]
  },
  {
   "cell_type": "code",
   "execution_count": 5,
   "id": "16fe154b-251f-4d9b-a93d-1548a8d4cbf2",
   "metadata": {},
   "outputs": [
    {
     "data": {
      "text/plain": [
       "120"
      ]
     },
     "execution_count": 5,
     "metadata": {},
     "output_type": "execute_result"
    }
   ],
   "source": [
    "# 3. Multiplication\n",
    "a = 10\n",
    "b = 12\n",
    "multiplication = a*b\n",
    "multiplication"
   ]
  },
  {
   "cell_type": "code",
   "execution_count": 7,
   "id": "d1403600-85b3-4a1f-a040-fc1010ee22ec",
   "metadata": {},
   "outputs": [
    {
     "data": {
      "text/plain": [
       "2.0833333333333335"
      ]
     },
     "execution_count": 7,
     "metadata": {},
     "output_type": "execute_result"
    }
   ],
   "source": [
    "# 4.Division\n",
    "a = 24\n",
    "b = 12\n",
    "divi = a/b\n",
    "divi"
   ]
  },
  {
   "cell_type": "code",
   "execution_count": 13,
   "id": "0b66808e-2c8e-4352-8b20-8f50a9358ca3",
   "metadata": {},
   "outputs": [
    {
     "data": {
      "text/plain": [
       "0"
      ]
     },
     "execution_count": 13,
     "metadata": {},
     "output_type": "execute_result"
    }
   ],
   "source": [
    "# 5.Modulus \n",
    "a = 25\n",
    "b = 5\n",
    "mod = a % b\n",
    "mod          # it basically print a remiander "
   ]
  },
  {
   "cell_type": "code",
   "execution_count": 9,
   "id": "7ff8f94e-87c3-4ea8-865b-dd369c89c851",
   "metadata": {},
   "outputs": [
    {
     "data": {
      "text/plain": [
       "64"
      ]
     },
     "execution_count": 9,
     "metadata": {},
     "output_type": "execute_result"
    }
   ],
   "source": [
    "# 6. Expoentiation\n",
    "a = 2\n",
    "b = 6 \n",
    "expo = a**b  # ( 2  to power 6)\n",
    "expo"
   ]
  },
  {
   "cell_type": "code",
   "execution_count": 14,
   "id": "66c9dc67-cae5-4481-b463-506cd47c2792",
   "metadata": {},
   "outputs": [
    {
     "data": {
      "text/plain": [
       "3"
      ]
     },
     "execution_count": 14,
     "metadata": {},
     "output_type": "execute_result"
    }
   ],
   "source": [
    "# 7. Floor division\n",
    "a = 7\n",
    "b = 2\n",
    "floor = a // b\n",
    "floor          # it basically print a quotient"
   ]
  },
  {
   "cell_type": "raw",
   "id": "e2c0e13c-7489-4862-a781-a2080107695f",
   "metadata": {},
   "source": [
    "# comparsion operator >> compare two  values >> return a boolean value"
   ]
  },
  {
   "cell_type": "code",
   "execution_count": 18,
   "id": "f15ebff9-10c4-49e9-bcdf-7187ff983ca9",
   "metadata": {},
   "outputs": [
    {
     "data": {
      "text/plain": [
       "False"
      ]
     },
     "execution_count": 18,
     "metadata": {},
     "output_type": "execute_result"
    }
   ],
   "source": [
    " # 1. Equal\n",
    "a = 2\n",
    "b = 3\n",
    "equal =  (a == b) # compare two variable\n",
    "equal"
   ]
  },
  {
   "cell_type": "code",
   "execution_count": 19,
   "id": "5ea6e2a0-4125-43a9-9f0f-cb05858861a7",
   "metadata": {},
   "outputs": [
    {
     "data": {
      "text/plain": [
       "True"
      ]
     },
     "execution_count": 19,
     "metadata": {},
     "output_type": "execute_result"
    }
   ],
   "source": [
    "a = 2\n",
    "b = 2\n",
    "equal =  (a == b)\n",
    "equal"
   ]
  },
  {
   "cell_type": "code",
   "execution_count": 1,
   "id": "3fe2ad92-8d2c-441b-af8a-0ca889c7227c",
   "metadata": {},
   "outputs": [
    {
     "data": {
      "text/plain": [
       "2"
      ]
     },
     "execution_count": 1,
     "metadata": {},
     "output_type": "execute_result"
    }
   ],
   "source": [
    "a = 2 # assign variable\n",
    "a"
   ]
  },
  {
   "cell_type": "code",
   "execution_count": 24,
   "id": "402b89ba-17db-4277-8bd6-a45c2e072e93",
   "metadata": {},
   "outputs": [
    {
     "data": {
      "text/plain": [
       "False"
      ]
     },
     "execution_count": 24,
     "metadata": {},
     "output_type": "execute_result"
    }
   ],
   "source": [
    "# 2. Not Equal\n",
    "a = 2\n",
    "b = 2\n",
    "A = a!=b\n",
    "A"
   ]
  },
  {
   "cell_type": "code",
   "execution_count": 25,
   "id": "1a457827-069b-4556-a64d-5112bbb06b64",
   "metadata": {},
   "outputs": [
    {
     "data": {
      "text/plain": [
       "True"
      ]
     },
     "execution_count": 25,
     "metadata": {},
     "output_type": "execute_result"
    }
   ],
   "source": [
    "a = 2\n",
    "b = 5\n",
    "A = a!=b\n",
    "A"
   ]
  },
  {
   "cell_type": "code",
   "execution_count": 27,
   "id": "a33626e4-2ec9-46cb-9f80-20cc21a9fcd8",
   "metadata": {},
   "outputs": [
    {
     "data": {
      "text/plain": [
       "True"
      ]
     },
     "execution_count": 27,
     "metadata": {},
     "output_type": "execute_result"
    }
   ],
   "source": [
    "# 3. greater Than \n",
    "a = 4\n",
    "b = 2\n",
    "greater = a>b\n",
    "greater\n"
   ]
  },
  {
   "cell_type": "code",
   "execution_count": 2,
   "id": "f2d62c5e-885b-4d8f-ae12-72ad5a886fee",
   "metadata": {},
   "outputs": [
    {
     "data": {
      "text/plain": [
       "False"
      ]
     },
     "execution_count": 2,
     "metadata": {},
     "output_type": "execute_result"
    }
   ],
   "source": [
    "a = 2 \n",
    "b = 4\n",
    "greater = a>b\n",
    "greater"
   ]
  },
  {
   "cell_type": "code",
   "execution_count": 3,
   "id": "de906f94-0b3c-42b6-ae3e-271e91551411",
   "metadata": {},
   "outputs": [
    {
     "data": {
      "text/plain": [
       "True"
      ]
     },
     "execution_count": 3,
     "metadata": {},
     "output_type": "execute_result"
    }
   ],
   "source": [
    "# 4. Less than\n",
    "a = 4\n",
    "b = 8\n",
    "less = a<b\n",
    "less"
   ]
  },
  {
   "cell_type": "code",
   "execution_count": 4,
   "id": "14d004c5-47f3-45e9-ab6d-7cdfa76d64a7",
   "metadata": {},
   "outputs": [
    {
     "data": {
      "text/plain": [
       "False"
      ]
     },
     "execution_count": 4,
     "metadata": {},
     "output_type": "execute_result"
    }
   ],
   "source": [
    "a = 12\n",
    "b = 8\n",
    "less = a<b\n",
    "less"
   ]
  },
  {
   "cell_type": "code",
   "execution_count": 9,
   "id": "3271758e-c4b1-4fe4-9ba1-4115b43014e4",
   "metadata": {},
   "outputs": [
    {
     "data": {
      "text/plain": [
       "True"
      ]
     },
     "execution_count": 9,
     "metadata": {},
     "output_type": "execute_result"
    }
   ],
   "source": [
    "# 5. Greater than equal to \n",
    "a = 4\n",
    "b = 2\n",
    "X = a>=b\n",
    "X"
   ]
  },
  {
   "cell_type": "code",
   "execution_count": 10,
   "id": "36ca5e2e-1598-4391-8b86-c3fb04e59d99",
   "metadata": {},
   "outputs": [
    {
     "data": {
      "text/plain": [
       "True"
      ]
     },
     "execution_count": 10,
     "metadata": {},
     "output_type": "execute_result"
    }
   ],
   "source": [
    "a = 2\n",
    "b = 2\n",
    "X = a>=b\n",
    "X"
   ]
  },
  {
   "cell_type": "code",
   "execution_count": 11,
   "id": "040cc46d-a467-4706-b4f6-4de9ea624169",
   "metadata": {},
   "outputs": [
    {
     "data": {
      "text/plain": [
       "False"
      ]
     },
     "execution_count": 11,
     "metadata": {},
     "output_type": "execute_result"
    }
   ],
   "source": [
    "a = 2\n",
    "b = 4\n",
    "X = a>=b\n",
    "X"
   ]
  },
  {
   "cell_type": "code",
   "execution_count": 13,
   "id": "e4d070b0-6c36-41ab-895f-022a9448b384",
   "metadata": {},
   "outputs": [
    {
     "data": {
      "text/plain": [
       "True"
      ]
     },
     "execution_count": 13,
     "metadata": {},
     "output_type": "execute_result"
    }
   ],
   "source": [
    "# 6 . less than equal to\n",
    "a = 3\n",
    "b = 4\n",
    "X = a<=b\n",
    "X"
   ]
  },
  {
   "cell_type": "code",
   "execution_count": 14,
   "id": "6e154496-6c18-4916-970b-d6f5b2af97c4",
   "metadata": {},
   "outputs": [
    {
     "data": {
      "text/plain": [
       "True"
      ]
     },
     "execution_count": 14,
     "metadata": {},
     "output_type": "execute_result"
    }
   ],
   "source": [
    "a = 4\n",
    "b = 4\n",
    "X = a<=b\n",
    "X"
   ]
  },
  {
   "cell_type": "code",
   "execution_count": 15,
   "id": "aae2917d-29a5-47a7-ae07-114b44428a45",
   "metadata": {},
   "outputs": [
    {
     "data": {
      "text/plain": [
       "False"
      ]
     },
     "execution_count": 15,
     "metadata": {},
     "output_type": "execute_result"
    }
   ],
   "source": [
    "a = 4\n",
    "b = 2\n",
    "X = a<=b\n",
    "X"
   ]
  },
  {
   "cell_type": "raw",
   "id": "faf99263-6116-4869-aa56-1a65e3738151",
   "metadata": {},
   "source": [
    "# logical operators\n",
    "# and \n",
    "# or\n",
    "# AND\n",
    "# Not\n",
    "------------------------- \n",
    "Where True = 1 and False = 0\n",
    "\n",
    "True and True   = True\n",
    "True and False  = False\n",
    "False and True  = False\n",
    "False and False = False\n",
    "# OR\n",
    "True OR True   = True\n",
    "True OR False  = True\n",
    "False OR True  = True\n",
    "False OR False = False\n",
    "# not\n",
    "not True = False\n",
    "not False = True\n",
    "\n"
   ]
  },
  {
   "cell_type": "code",
   "execution_count": 17,
   "id": "a3d435d4-cd12-4150-9596-64ccbe55d936",
   "metadata": {},
   "outputs": [
    {
     "data": {
      "text/plain": [
       "True"
      ]
     },
     "execution_count": 17,
     "metadata": {},
     "output_type": "execute_result"
    }
   ],
   "source": [
    " # AND operators\n",
    "True and True"
   ]
  },
  {
   "cell_type": "code",
   "execution_count": 18,
   "id": "4994f4af-79bf-46ca-8458-0137c6c04813",
   "metadata": {},
   "outputs": [
    {
     "data": {
      "text/plain": [
       "False"
      ]
     },
     "execution_count": 18,
     "metadata": {},
     "output_type": "execute_result"
    }
   ],
   "source": [
    "True and False"
   ]
  },
  {
   "cell_type": "code",
   "execution_count": 19,
   "id": "65fa21dc-b861-4313-a325-80fd1bf88950",
   "metadata": {},
   "outputs": [
    {
     "data": {
      "text/plain": [
       "False"
      ]
     },
     "execution_count": 19,
     "metadata": {},
     "output_type": "execute_result"
    }
   ],
   "source": [
    "False and True  "
   ]
  },
  {
   "cell_type": "code",
   "execution_count": 20,
   "id": "1b881f64-defd-4e25-b2c9-5e7aaad2e39a",
   "metadata": {},
   "outputs": [
    {
     "data": {
      "text/plain": [
       "False"
      ]
     },
     "execution_count": 20,
     "metadata": {},
     "output_type": "execute_result"
    }
   ],
   "source": [
    "False and False\n",
    "\n"
   ]
  },
  {
   "cell_type": "code",
   "execution_count": 22,
   "id": "28695b53-8fe4-4261-930c-fc2a696615c2",
   "metadata": {},
   "outputs": [
    {
     "data": {
      "text/plain": [
       "True"
      ]
     },
     "execution_count": 22,
     "metadata": {},
     "output_type": "execute_result"
    }
   ],
   "source": [
    "# OR operators\n",
    "True or True"
   ]
  },
  {
   "cell_type": "code",
   "execution_count": 23,
   "id": "74a1ab7f-6288-484f-8829-9b4b8c090cbb",
   "metadata": {},
   "outputs": [
    {
     "data": {
      "text/plain": [
       "True"
      ]
     },
     "execution_count": 23,
     "metadata": {},
     "output_type": "execute_result"
    }
   ],
   "source": [
    "True or False"
   ]
  },
  {
   "cell_type": "code",
   "execution_count": 24,
   "id": "cc0d9c15-00f0-4aa5-bb13-11e002f0523f",
   "metadata": {},
   "outputs": [
    {
     "data": {
      "text/plain": [
       "True"
      ]
     },
     "execution_count": 24,
     "metadata": {},
     "output_type": "execute_result"
    }
   ],
   "source": [
    "False or True "
   ]
  },
  {
   "cell_type": "code",
   "execution_count": 25,
   "id": "854ac523-cdee-4035-9984-d1d4f202f1ec",
   "metadata": {},
   "outputs": [
    {
     "data": {
      "text/plain": [
       "False"
      ]
     },
     "execution_count": 25,
     "metadata": {},
     "output_type": "execute_result"
    }
   ],
   "source": [
    "False or False"
   ]
  },
  {
   "cell_type": "code",
   "execution_count": 26,
   "id": "75dc8a72-9717-4130-8509-fb2b7b95c4a7",
   "metadata": {},
   "outputs": [
    {
     "data": {
      "text/plain": [
       "False"
      ]
     },
     "execution_count": 26,
     "metadata": {},
     "output_type": "execute_result"
    }
   ],
   "source": [
    "# not operators\n",
    "not True"
   ]
  },
  {
   "cell_type": "code",
   "execution_count": 27,
   "id": "809559c8-c0b0-4abf-9fab-288194a3331d",
   "metadata": {},
   "outputs": [
    {
     "data": {
      "text/plain": [
       "True"
      ]
     },
     "execution_count": 27,
     "metadata": {},
     "output_type": "execute_result"
    }
   ],
   "source": [
    "not False"
   ]
  },
  {
   "cell_type": "raw",
   "id": "0b51ce16-9e59-4e44-ace2-1cd1e7b5e4a4",
   "metadata": {},
   "source": [
    "# Assignment operators\n",
    "a = 10\n",
    "a\n",
    "10"
   ]
  },
  {
   "cell_type": "code",
   "execution_count": 28,
   "id": "afd6d1e9-ae6a-4364-a5a1-3d788c21b113",
   "metadata": {},
   "outputs": [
    {
     "data": {
      "text/plain": [
       "15"
      ]
     },
     "execution_count": 28,
     "metadata": {},
     "output_type": "execute_result"
    }
   ],
   "source": [
    "a = 10\n",
    "a+5"
   ]
  },
  {
   "cell_type": "code",
   "execution_count": 29,
   "id": "a75661c8-3619-4361-b392-8f4067fe4b53",
   "metadata": {},
   "outputs": [],
   "source": [
    "b = 10"
   ]
  },
  {
   "cell_type": "code",
   "execution_count": 30,
   "id": "41621891-a00f-4076-a213-130b22036d1b",
   "metadata": {},
   "outputs": [
    {
     "data": {
      "text/plain": [
       "16"
      ]
     },
     "execution_count": 30,
     "metadata": {},
     "output_type": "execute_result"
    }
   ],
   "source": [
    "b+6"
   ]
  },
  {
   "cell_type": "code",
   "execution_count": 31,
   "id": "6af66d33-05c4-4bc8-935d-5fd7ce1f09c7",
   "metadata": {},
   "outputs": [
    {
     "data": {
      "text/plain": [
       "24"
      ]
     },
     "execution_count": 31,
     "metadata": {},
     "output_type": "execute_result"
    }
   ],
   "source": [
    "b = 12\n",
    "b = b + 12\n",
    "b"
   ]
  },
  {
   "cell_type": "code",
   "execution_count": 32,
   "id": "6ade69e2-1116-4d75-b793-5591b3b42baf",
   "metadata": {},
   "outputs": [
    {
     "data": {
      "text/plain": [
       "22"
      ]
     },
     "execution_count": 32,
     "metadata": {},
     "output_type": "execute_result"
    }
   ],
   "source": [
    "# Addtion\n",
    "b = 10 \n",
    "b += 12\n",
    "b"
   ]
  },
  {
   "cell_type": "code",
   "execution_count": 33,
   "id": "93d7012d-1ee3-43e5-9fad-e48819364232",
   "metadata": {},
   "outputs": [
    {
     "data": {
      "text/plain": [
       "2"
      ]
     },
     "execution_count": 33,
     "metadata": {},
     "output_type": "execute_result"
    }
   ],
   "source": [
    "# Subtraction\n",
    "b = 14 \n",
    "b -= 12\n",
    "b"
   ]
  },
  {
   "cell_type": "code",
   "execution_count": 34,
   "id": "e5dca525-747f-4fa0-9e8b-45591c65de83",
   "metadata": {},
   "outputs": [
    {
     "data": {
      "text/plain": [
       "156"
      ]
     },
     "execution_count": 34,
     "metadata": {},
     "output_type": "execute_result"
    }
   ],
   "source": [
    "# Multiplication\n",
    "b = 13\n",
    "b *= 12\n",
    "b"
   ]
  },
  {
   "cell_type": "code",
   "execution_count": 35,
   "id": "16de3210-64d4-47a9-bb5d-86f206cb91fd",
   "metadata": {},
   "outputs": [
    {
     "data": {
      "text/plain": [
       "1.0833333333333333"
      ]
     },
     "execution_count": 35,
     "metadata": {},
     "output_type": "execute_result"
    }
   ],
   "source": [
    "# Division\n",
    "b = 13\n",
    "b /= 12\n",
    "b"
   ]
  },
  {
   "cell_type": "code",
   "execution_count": 36,
   "id": "52d0f3e3-ac36-4381-b719-07e6a13b34a9",
   "metadata": {},
   "outputs": [
    {
     "data": {
      "text/plain": [
       "1"
      ]
     },
     "execution_count": 36,
     "metadata": {},
     "output_type": "execute_result"
    }
   ],
   "source": [
    "# modulous\n",
    "b = 13\n",
    "b %= 12\n",
    "b"
   ]
  },
  {
   "cell_type": "code",
   "execution_count": 37,
   "id": "1bd0711a-8484-4edd-81f1-77800904cc12",
   "metadata": {},
   "outputs": [
    {
     "data": {
      "text/plain": [
       "1"
      ]
     },
     "execution_count": 37,
     "metadata": {},
     "output_type": "execute_result"
    }
   ],
   "source": [
    "# Floor division\n",
    "b = 13\n",
    "b //= 12\n",
    "b"
   ]
  },
  {
   "cell_type": "code",
   "execution_count": 38,
   "id": "e58b4529-b208-4700-8ce3-2c5c4f6f6280",
   "metadata": {},
   "outputs": [
    {
     "data": {
      "text/plain": [
       "True"
      ]
     },
     "execution_count": 38,
     "metadata": {},
     "output_type": "execute_result"
    }
   ],
   "source": [
    "# membership operators\n",
    "a = \"Devesh\"\n",
    "\"D\" in a"
   ]
  },
  {
   "cell_type": "code",
   "execution_count": 40,
   "id": "c59b1073-f404-4a4c-ae05-d68fb66b2838",
   "metadata": {},
   "outputs": [
    {
     "data": {
      "text/plain": [
       "False"
      ]
     },
     "execution_count": 40,
     "metadata": {},
     "output_type": "execute_result"
    }
   ],
   "source": [
    "\"e\" not in a"
   ]
  },
  {
   "cell_type": "code",
   "execution_count": 41,
   "id": "124d2979-84d7-45ef-94a8-a4ba3ef242dc",
   "metadata": {},
   "outputs": [
    {
     "data": {
      "text/plain": [
       "False"
      ]
     },
     "execution_count": 41,
     "metadata": {},
     "output_type": "execute_result"
    }
   ],
   "source": [
    "\"y\" in a"
   ]
  },
  {
   "cell_type": "code",
   "execution_count": 45,
   "id": "f9356da5-a832-4369-b4d7-8e66bd04edcb",
   "metadata": {},
   "outputs": [
    {
     "data": {
      "text/plain": [
       "True"
      ]
     },
     "execution_count": 45,
     "metadata": {},
     "output_type": "execute_result"
    }
   ],
   "source": [
    " a = \"sachin\"\n",
    " \"sa\" in a"
   ]
  },
  {
   "cell_type": "code",
   "execution_count": 46,
   "id": "3982dc7e-35b8-4a9e-9783-85e4a1b69589",
   "metadata": {},
   "outputs": [
    {
     "data": {
      "text/plain": [
       "True"
      ]
     },
     "execution_count": 46,
     "metadata": {},
     "output_type": "execute_result"
    }
   ],
   "source": [
    "\"mee\" not in a"
   ]
  },
  {
   "cell_type": "code",
   "execution_count": 47,
   "id": "d939ea1f-cef6-4a16-8245-378dbdb166d2",
   "metadata": {},
   "outputs": [
    {
     "data": {
      "text/plain": [
       "False"
      ]
     },
     "execution_count": 47,
     "metadata": {},
     "output_type": "execute_result"
    }
   ],
   "source": [
    "\"mee\" in a"
   ]
  },
  {
   "cell_type": "raw",
   "id": "ffffdb0e-9ceb-4074-8abb-aa0ff2ee7e72",
   "metadata": {},
   "source": [
    "# identity operators >>> compares the location of two objects/variables\n",
    "\n"
   ]
  },
  {
   "cell_type": "code",
   "execution_count": 48,
   "id": "eb8b37f6-7eb9-42f7-b20d-e80a1291ca7b",
   "metadata": {},
   "outputs": [
    {
     "data": {
      "text/plain": [
       "False"
      ]
     },
     "execution_count": 48,
     "metadata": {},
     "output_type": "execute_result"
    }
   ],
   "source": [
    "a = 2\n",
    "b = 3\n",
    "a is b"
   ]
  },
  {
   "cell_type": "code",
   "execution_count": 49,
   "id": "3486b14d-12d5-4010-be2f-ceae802d2730",
   "metadata": {},
   "outputs": [
    {
     "data": {
      "text/plain": [
       "True"
      ]
     },
     "execution_count": 49,
     "metadata": {},
     "output_type": "execute_result"
    }
   ],
   "source": [
    "a = 2\n",
    "b = 3\n",
    "a is not b"
   ]
  },
  {
   "cell_type": "code",
   "execution_count": 51,
   "id": "5b199eef-a129-46f2-bf86-df5303da4a96",
   "metadata": {},
   "outputs": [
    {
     "data": {
      "text/plain": [
       "True"
      ]
     },
     "execution_count": 51,
     "metadata": {},
     "output_type": "execute_result"
    }
   ],
   "source": [
    "a = 2\n",
    "b = a\n",
    "a is b"
   ]
  },
  {
   "cell_type": "code",
   "execution_count": null,
   "id": "04aa4a44-16fa-4135-bf6d-239e90def524",
   "metadata": {},
   "outputs": [],
   "source": [
    "# Bitwise operators >> operation at bit level , manipulating indiviuals bits within integers\n",
    "check binary number = bin(binary number)\n",
    "# bitwise representaion \n",
    "... 2^3 2^2 2^1 2^0\n",
    "1 = 0001\n",
    "2 = 0010\n",
    "3 = 0011\n",
    "4 = 0100\n",
    "5 = 0101\n",
    "6 = 0110\n",
    "7 = 0111\n",
    "8 = 1000\n",
    "9 = 1001\n",
    "10 = 1010\n"
   ]
  },
  {
   "cell_type": "code",
   "execution_count": 1,
   "id": "ce402789-5dcf-40ca-960b-4d1bbbe2337b",
   "metadata": {},
   "outputs": [
    {
     "data": {
      "text/plain": [
       "8"
      ]
     },
     "execution_count": 1,
     "metadata": {},
     "output_type": "execute_result"
    }
   ],
   "source": [
    "10 & 9 # bitwise And operators"
   ]
  },
  {
   "cell_type": "code",
   "execution_count": 2,
   "id": "8f5d5130-1a3b-4faa-ad5b-fd56ecad16cf",
   "metadata": {},
   "outputs": [
    {
     "data": {
      "text/plain": [
       "10"
      ]
     },
     "execution_count": 2,
     "metadata": {},
     "output_type": "execute_result"
    }
   ],
   "source": [
    "10 & 10"
   ]
  },
  {
   "cell_type": "code",
   "execution_count": 3,
   "id": "ed767da9-96e7-4cd2-865a-8611cecdf474",
   "metadata": {},
   "outputs": [
    {
     "data": {
      "text/plain": [
       "2"
      ]
     },
     "execution_count": 3,
     "metadata": {},
     "output_type": "execute_result"
    }
   ],
   "source": [
    "18 & 3"
   ]
  },
  {
   "cell_type": "code",
   "execution_count": 6,
   "id": "970522c3-2b51-4a7a-9bca-f2478b4fdbfa",
   "metadata": {},
   "outputs": [
    {
     "data": {
      "text/plain": [
       "19"
      ]
     },
     "execution_count": 6,
     "metadata": {},
     "output_type": "execute_result"
    }
   ],
   "source": [
    "18|3 # bitwise or operators"
   ]
  },
  {
   "cell_type": "code",
   "execution_count": 7,
   "id": "b25c8b84-e497-4d9a-aec3-066af364bb2a",
   "metadata": {},
   "outputs": [
    {
     "data": {
      "text/plain": [
       "3"
      ]
     },
     "execution_count": 7,
     "metadata": {},
     "output_type": "execute_result"
    }
   ],
   "source": [
    "2|1"
   ]
  },
  {
   "cell_type": "code",
   "execution_count": 8,
   "id": "5a970283-00c5-4a54-8dc9-28954c120ad0",
   "metadata": {},
   "outputs": [
    {
     "data": {
      "text/plain": [
       "1"
      ]
     },
     "execution_count": 8,
     "metadata": {},
     "output_type": "execute_result"
    }
   ],
   "source": [
    "1|1"
   ]
  },
  {
   "cell_type": "code",
   "execution_count": 9,
   "id": "84d42bed-18be-45a3-a362-8c9c3f7112b0",
   "metadata": {},
   "outputs": [
    {
     "data": {
      "text/plain": [
       "1"
      ]
     },
     "execution_count": 9,
     "metadata": {},
     "output_type": "execute_result"
    }
   ],
   "source": [
    "1|0"
   ]
  },
  {
   "cell_type": "code",
   "execution_count": 10,
   "id": "bf673fce-6f74-439e-b740-ab8192f93562",
   "metadata": {},
   "outputs": [
    {
     "data": {
      "text/plain": [
       "0"
      ]
     },
     "execution_count": 10,
     "metadata": {},
     "output_type": "execute_result"
    }
   ],
   "source": [
    "0|0"
   ]
  },
  {
   "cell_type": "code",
   "execution_count": 11,
   "id": "d0a48865-af16-4f75-b447-875f006f89ee",
   "metadata": {},
   "outputs": [
    {
     "data": {
      "text/plain": [
       "-4"
      ]
     },
     "execution_count": 11,
     "metadata": {},
     "output_type": "execute_result"
    }
   ],
   "source": [
    "# negation(~)\n",
    "~3"
   ]
  },
  {
   "cell_type": "code",
   "execution_count": 12,
   "id": "7904c731-859f-4376-889a-6ae6ce9dd7d4",
   "metadata": {},
   "outputs": [
    {
     "data": {
      "text/plain": [
       "-3"
      ]
     },
     "execution_count": 12,
     "metadata": {},
     "output_type": "execute_result"
    }
   ],
   "source": [
    "~2"
   ]
  },
  {
   "cell_type": "code",
   "execution_count": 13,
   "id": "d7dc87ae-b3bf-4194-bcdc-bf985a235332",
   "metadata": {},
   "outputs": [
    {
     "data": {
      "text/plain": [
       "-101"
      ]
     },
     "execution_count": 13,
     "metadata": {},
     "output_type": "execute_result"
    }
   ],
   "source": [
    "~100"
   ]
  },
  {
   "cell_type": "raw",
   "id": "2def28c8-69d3-4450-ada6-868d8f5f4f4e",
   "metadata": {},
   "source": [
    "# bitwise XOR (^) \n",
    "# return 1 when exactly one operand is 1\n",
    " 1^1 = 0\n",
    " 1^0 = 1\n",
    " 0^1 = 1\n",
    " 1^1 = 1"
   ]
  },
  {
   "cell_type": "code",
   "execution_count": 15,
   "id": "11a6513c-cc07-4205-bcad-db10d08d5ff1",
   "metadata": {},
   "outputs": [
    {
     "data": {
      "text/plain": [
       "6"
      ]
     },
     "execution_count": 15,
     "metadata": {},
     "output_type": "execute_result"
    }
   ],
   "source": [
    " 5 ^ 3"
   ]
  },
  {
   "cell_type": "code",
   "execution_count": 17,
   "id": "c542db59-60f2-4b4d-add6-d24abcf1662b",
   "metadata": {},
   "outputs": [
    {
     "data": {
      "text/plain": [
       "10"
      ]
     },
     "execution_count": 17,
     "metadata": {},
     "output_type": "execute_result"
    }
   ],
   "source": [
    "3 ^ 9"
   ]
  },
  {
   "cell_type": "code",
   "execution_count": 18,
   "id": "814baa4c-0b3f-46bc-9ccb-61e03cb5e4c0",
   "metadata": {},
   "outputs": [
    {
     "data": {
      "text/plain": [
       "4"
      ]
     },
     "execution_count": 18,
     "metadata": {},
     "output_type": "execute_result"
    }
   ],
   "source": [
    "2 ^ 6 #  where 2 = 0010 Xor 6 = 0110\n"
   ]
  },
  {
   "cell_type": "raw",
   "id": "8b522cc3-5ec0-480b-97a2-cae56db151e7",
   "metadata": {},
   "source": [
    "# shift operator <<, shift the bits by left and right\n",
    "> left shift .... denoted by << ..... shifts the bits to the left by a specified no. of position, filling 0's of the right\n",
    "> right shift .... denoted by >> ....  remove the number of element in the binary\n"
   ]
  },
  {
   "cell_type": "code",
   "execution_count": 19,
   "id": "1e850e18-77b4-4a74-9e3e-7d4dfc7ad2c1",
   "metadata": {},
   "outputs": [
    {
     "data": {
      "text/plain": [
       "280"
      ]
     },
     "execution_count": 19,
     "metadata": {},
     "output_type": "execute_result"
    }
   ],
   "source": [
    "35 << 3 # left shift"
   ]
  },
  {
   "cell_type": "code",
   "execution_count": 20,
   "id": "4914e47e-ed11-4bcc-b03d-b9a2674e18e9",
   "metadata": {},
   "outputs": [
    {
     "data": {
      "text/plain": [
       "10"
      ]
     },
     "execution_count": 20,
     "metadata": {},
     "output_type": "execute_result"
    }
   ],
   "source": [
    "5 << 1"
   ]
  },
  {
   "cell_type": "code",
   "execution_count": 21,
   "id": "cd48c8c0-5363-45eb-a744-5af4a0a75d71",
   "metadata": {},
   "outputs": [
    {
     "data": {
      "text/plain": [
       "35"
      ]
     },
     "execution_count": 21,
     "metadata": {},
     "output_type": "execute_result"
    }
   ],
   "source": [
    "280 >> 3 # right shift"
   ]
  },
  {
   "cell_type": "code",
   "execution_count": 22,
   "id": "f7d9241c-e22e-422f-bb1c-fde3b0b92da4",
   "metadata": {},
   "outputs": [
    {
     "data": {
      "text/plain": [
       "2"
      ]
     },
     "execution_count": 22,
     "metadata": {},
     "output_type": "execute_result"
    }
   ],
   "source": [
    "5 >> 1"
   ]
  },
  {
   "cell_type": "raw",
   "id": "66cdfd6f-4813-4345-9de4-a3d70f240356",
   "metadata": {},
   "source": [
    "# Order of precedence\n",
    "# execution of python statement will be from left to right\n",
    "b = 5\n",
    "b += 5\n",
    "b \n",
    "10 "
   ]
  },
  {
   "cell_type": "code",
   "execution_count": 1,
   "id": "40ed26c9-2338-4c41-b6c8-786ece73994a",
   "metadata": {},
   "outputs": [
    {
     "data": {
      "text/plain": [
       "-3"
      ]
     },
     "execution_count": 1,
     "metadata": {},
     "output_type": "execute_result"
    }
   ],
   "source": [
    "2+3-8 # by using bodmas rule"
   ]
  },
  {
   "cell_type": "code",
   "execution_count": 2,
   "id": "645251c0-ce0b-4f28-81be-97548cd2ee07",
   "metadata": {},
   "outputs": [
    {
     "data": {
      "text/plain": [
       "4"
      ]
     },
     "execution_count": 2,
     "metadata": {},
     "output_type": "execute_result"
    }
   ],
   "source": [
    " # always parenthesis\n",
    "(5+3)-4"
   ]
  },
  {
   "cell_type": "code",
   "execution_count": 3,
   "id": "6dba926f-1f1b-4c18-aa26-fdad443db068",
   "metadata": {},
   "outputs": [
    {
     "data": {
      "text/plain": [
       "11.0"
      ]
     },
     "execution_count": 3,
     "metadata": {},
     "output_type": "execute_result"
    }
   ],
   "source": [
    "(10+5) - (8/2)"
   ]
  },
  {
   "cell_type": "code",
   "execution_count": null,
   "id": "0f99c02e-6d5e-47e8-9ffa-b87f2e7a37f0",
   "metadata": {},
   "outputs": [],
   "source": []
  }
 ],
 "metadata": {
  "kernelspec": {
   "display_name": "Python 3 (ipykernel)",
   "language": "python",
   "name": "python3"
  },
  "language_info": {
   "codemirror_mode": {
    "name": "ipython",
    "version": 3
   },
   "file_extension": ".py",
   "mimetype": "text/x-python",
   "name": "python",
   "nbconvert_exporter": "python",
   "pygments_lexer": "ipython3",
   "version": "3.13.2"
  }
 },
 "nbformat": 4,
 "nbformat_minor": 5
}
