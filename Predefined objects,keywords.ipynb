{
 "cells": [
  {
   "cell_type": "raw",
   "id": "2926c0cf-d7a2-4abb-a075-5948789eb25a",
   "metadata": {},
   "source": [
    "# PYTHON IS CASE SENSITIVE PROGRAMMING LANGUAGE\n",
    " a = 5\n",
    " A =100\n",
    "both are the different variable\n",
    " "
   ]
  },
  {
   "cell_type": "raw",
   "id": "886f8e9d-60b1-426a-8d87-263b8dd39f45",
   "metadata": {},
   "source": [
    "# Variables/identifier >> placeholders where we keep variety of data which we can use to write logic.\n",
    "2 = interger value \n",
    "2.3 = float value (Decimal of value)\n",
    "\"Devesh\" = String value \n",
    "# Numbers >> integers/float\n",
    "# Character >> String in python\n",
    "# True/False >> Boolean ( True = 1 and Flase = 0)\n",
    "# None\n",
    "# complex\n",
    "\n"
   ]
  },
  {
   "cell_type": "raw",
   "id": "6e651e38-9048-4462-938a-ec8bad138a6a",
   "metadata": {},
   "source": [
    "variable is a reserved memory space for storing value\n",
    "b ( address for reserved memory) = 3\n",
    "A memory space will be created with value of the variable\n"
   ]
  },
  {
   "cell_type": "code",
   "execution_count": 7,
   "id": "b311941e-1833-42ec-8447-854f7147fa51",
   "metadata": {},
   "outputs": [
    {
     "data": {
      "text/plain": [
       "int"
      ]
     },
     "execution_count": 7,
     "metadata": {},
     "output_type": "execute_result"
    }
   ],
   "source": [
    "a = 3\n",
    "a\n",
    "type(a)"
   ]
  },
  {
   "cell_type": "code",
   "execution_count": 8,
   "id": "441279bb-01c4-4a32-998a-b4992c014ca9",
   "metadata": {},
   "outputs": [
    {
     "data": {
      "text/plain": [
       "float"
      ]
     },
     "execution_count": 8,
     "metadata": {},
     "output_type": "execute_result"
    }
   ],
   "source": [
    "b = 4.5\n",
    "b\n",
    "type(b)"
   ]
  },
  {
   "cell_type": "code",
   "execution_count": 4,
   "id": "2533815e-5169-4324-bdf0-95d19455c0f2",
   "metadata": {},
   "outputs": [
    {
     "data": {
      "text/plain": [
       "str"
      ]
     },
     "execution_count": 4,
     "metadata": {},
     "output_type": "execute_result"
    }
   ],
   "source": [
    "c =\"Devesh\"\n",
    "c\n",
    "type(c)"
   ]
  },
  {
   "cell_type": "code",
   "execution_count": 17,
   "id": "f970c74d-7016-4e52-9709-76e61e34cc83",
   "metadata": {},
   "outputs": [
    {
     "data": {
      "text/plain": [
       "bool"
      ]
     },
     "execution_count": 17,
     "metadata": {},
     "output_type": "execute_result"
    }
   ],
   "source": [
    "d = True\n",
    "d\n",
    "type(d)"
   ]
  },
  {
   "cell_type": "code",
   "execution_count": 21,
   "id": "c77665e7-cc44-43d3-bb69-fe60341049b3",
   "metadata": {},
   "outputs": [
    {
     "data": {
      "text/plain": [
       "NoneType"
      ]
     },
     "execution_count": 21,
     "metadata": {},
     "output_type": "execute_result"
    }
   ],
   "source": [
    "e = None \n",
    "e\n",
    "type(e)"
   ]
  },
  {
   "cell_type": "raw",
   "id": "300149f2-9ab0-40f3-8783-6cd4b15550bf",
   "metadata": {},
   "source": [
    "x+iy >> complex number\n"
   ]
  },
  {
   "cell_type": "code",
   "execution_count": 22,
   "id": "6641c1c5-5488-4309-96a8-7fc272b842f5",
   "metadata": {},
   "outputs": [
    {
     "data": {
      "text/plain": [
       "complex"
      ]
     },
     "execution_count": 22,
     "metadata": {},
     "output_type": "execute_result"
    }
   ],
   "source": [
    "comp  = 5 +6j # 5 is a real part and 6j is imaginary part\n",
    "comp\n",
    "type(comp)"
   ]
  },
  {
   "cell_type": "code",
   "execution_count": 24,
   "id": "8bdf7da9-ec41-46fa-82fa-e41058aab4af",
   "metadata": {},
   "outputs": [
    {
     "data": {
      "text/plain": [
       "5.0"
      ]
     },
     "execution_count": 24,
     "metadata": {},
     "output_type": "execute_result"
    }
   ],
   "source": [
    "comp.real"
   ]
  },
  {
   "cell_type": "code",
   "execution_count": 26,
   "id": "f546e14f-7886-4665-847b-708518efa922",
   "metadata": {},
   "outputs": [
    {
     "data": {
      "text/plain": [
       "6.0"
      ]
     },
     "execution_count": 26,
     "metadata": {},
     "output_type": "execute_result"
    }
   ],
   "source": [
    "comp.imag"
   ]
  },
  {
   "cell_type": "raw",
   "id": "54ddc816-579d-4a5f-9477-f82dfb0b03a3",
   "metadata": {},
   "source": [
    " a = 3\n",
    " type(a) # integer\n",
    "b = 4.5\n",
    " type(b) # float\n",
    "c = \"Devesh\"\n",
    "type(c) # string in python\n",
    "d = True / flase (True = 1 and Flase = 0)\n",
    "type(d) # Boolean\n",
    "e = None\n",
    "type(e) # NoneType\n",
    "print will be None and blank \n",
    "comp  = 5 +6j # 5 is a real part and 6j is imaginary part\n",
    "comp\n",
    "type(comp) # Complex Number\n",
    "comp.real # it will print 5\n",
    "comp.imag # it will print 6"
   ]
  },
  {
   "cell_type": "code",
   "execution_count": 10,
   "id": "e5501785-d362-4ce0-87f8-b6bae6b5d8fe",
   "metadata": {},
   "outputs": [
    {
     "data": {
      "text/plain": [
       "1"
      ]
     },
     "execution_count": 10,
     "metadata": {},
     "output_type": "execute_result"
    }
   ],
   "source": [
    "# Now  we can prove that (True = 1 and Flase = 0)\n",
    "True-False # where True value is 1 and False value is 0"
   ]
  },
  {
   "cell_type": "code",
   "execution_count": 12,
   "id": "6f43145b-9885-406c-9d43-b3957dcb5e59",
   "metadata": {},
   "outputs": [
    {
     "data": {
      "text/plain": [
       "0"
      ]
     },
     "execution_count": 12,
     "metadata": {},
     "output_type": "execute_result"
    }
   ],
   "source": [
    "True * False # where True value is 1 and False value is 0"
   ]
  },
  {
   "cell_type": "raw",
   "id": "efae1407-7c2c-4e37-825b-8e61b459223a",
   "metadata": {},
   "source": [
    "True/False # it will throw  an error \n",
    "# ZeroDivisionError                         \n",
    " True/False\n",
    "ZeroDivisionError: division by zero"
   ]
  },
  {
   "cell_type": "raw",
   "id": "62a9f0b5-4e09-47fb-8911-d2a4d33a1652",
   "metadata": {},
   "source": [
    "Rules for defining a variables\n",
    "1. A variable Start with a letter(Alphabet) or underscore , character\n",
    "2. A variable can not start with integer/float values\n",
    "3. A variable names are case-sensitive (age ,Age and AGE are the three different variable)\n",
    "4. A variable name cannot be any of the python keywords\n",
    "5. A variable name can only contain alpha-numeric characters and underscores(A-z,0-9,and _)\n"
   ]
  },
  {
   "cell_type": "raw",
   "id": "458190b9-f018-4c5a-b634-f103aa20fe8d",
   "metadata": {},
   "source": [
    "Invalid ways"
   ]
  },
  {
   "cell_type": "code",
   "execution_count": 27,
   "id": "8af40818-4087-4847-9c45-679dd68ee4c5",
   "metadata": {},
   "outputs": [
    {
     "ename": "SyntaxError",
     "evalue": "cannot assign to literal here. Maybe you meant '==' instead of '='? (2354658069.py, line 1)",
     "output_type": "error",
     "traceback": [
      "  \u001b[36mCell\u001b[39m\u001b[36m \u001b[39m\u001b[32mIn[27]\u001b[39m\u001b[32m, line 1\u001b[39m\n\u001b[31m    \u001b[39m\u001b[31m5 =a\u001b[39m\n    ^\n\u001b[31mSyntaxError\u001b[39m\u001b[31m:\u001b[39m cannot assign to literal here. Maybe you meant '==' instead of '='?\n"
     ]
    }
   ],
   "source": [
    "5 = a  # 5 =a\n",
    "         ^\n",
    "SyntaxError: cannot assign to literal here."
   ]
  },
  {
   "cell_type": "code",
   "execution_count": 28,
   "id": "bff42b6a-5637-4283-983b-1aba72356b32",
   "metadata": {},
   "outputs": [
    {
     "ename": "SyntaxError",
     "evalue": "invalid decimal literal (2430335328.py, line 1)",
     "output_type": "error",
     "traceback": [
      "  \u001b[36mCell\u001b[39m\u001b[36m \u001b[39m\u001b[32mIn[28]\u001b[39m\u001b[32m, line 1\u001b[39m\n\u001b[31m    \u001b[39m\u001b[31m1name = \"Devesh\"\u001b[39m\n    ^\n\u001b[31mSyntaxError\u001b[39m\u001b[31m:\u001b[39m invalid decimal literal\n"
     ]
    }
   ],
   "source": [
    "1name = \"Devesh\""
   ]
  },
  {
   "cell_type": "code",
   "execution_count": 29,
   "id": "d2d82fd4-6f20-4917-8eb0-404dcc0411c8",
   "metadata": {},
   "outputs": [
    {
     "ename": "SyntaxError",
     "evalue": "cannot assign to literal here. Maybe you meant '==' instead of '='? (310222110.py, line 1)",
     "output_type": "error",
     "traceback": [
      "  \u001b[36mCell\u001b[39m\u001b[36m \u001b[39m\u001b[32mIn[29]\u001b[39m\u001b[32m, line 1\u001b[39m\n\u001b[31m    \u001b[39m\u001b[31m1 = abc\u001b[39m\n    ^\n\u001b[31mSyntaxError\u001b[39m\u001b[31m:\u001b[39m cannot assign to literal here. Maybe you meant '==' instead of '='?\n"
     ]
    }
   ],
   "source": [
    "1 = abc"
   ]
  },
  {
   "cell_type": "code",
   "execution_count": 42,
   "id": "8269adc6-6488-40ed-8d97-09f0e6c61197",
   "metadata": {},
   "outputs": [
    {
     "ename": "SyntaxError",
     "evalue": "cannot assign to expression here. Maybe you meant '==' instead of '='? (3136012270.py, line 1)",
     "output_type": "error",
     "traceback": [
      "  \u001b[36mCell\u001b[39m\u001b[36m \u001b[39m\u001b[32mIn[42]\u001b[39m\u001b[32m, line 1\u001b[39m\n\u001b[31m    \u001b[39m\u001b[31ma-bc = \"ram\"\u001b[39m\n    ^\n\u001b[31mSyntaxError\u001b[39m\u001b[31m:\u001b[39m cannot assign to expression here. Maybe you meant '==' instead of '='?\n"
     ]
    }
   ],
   "source": [
    "a-bc = \"ram\"\n",
    "a-bc"
   ]
  },
  {
   "cell_type": "code",
   "execution_count": 43,
   "id": "a3c8e957-e943-408a-abca-7e13ba15bc92",
   "metadata": {},
   "outputs": [
    {
     "ename": "SyntaxError",
     "evalue": "unterminated string literal (detected at line 1) (2571957736.py, line 1)",
     "output_type": "error",
     "traceback": [
      "  \u001b[36mCell\u001b[39m\u001b[36m \u001b[39m\u001b[32mIn[43]\u001b[39m\u001b[32m, line 1\u001b[39m\n\u001b[31m    \u001b[39m\u001b[31mdata-science = \"pwskills\u001b[39m\n                   ^\n\u001b[31mSyntaxError\u001b[39m\u001b[31m:\u001b[39m unterminated string literal (detected at line 1)\n"
     ]
    }
   ],
   "source": [
    "data-science = \"pwskills\n",
    "data-science"
   ]
  },
  {
   "cell_type": "code",
   "execution_count": 46,
   "id": "254a6958-9b95-48c6-8193-745efb78d1cc",
   "metadata": {},
   "outputs": [
    {
     "ename": "SyntaxError",
     "evalue": "invalid syntax (2107396201.py, line 1)",
     "output_type": "error",
     "traceback": [
      "  \u001b[36mCell\u001b[39m\u001b[36m \u001b[39m\u001b[32mIn[46]\u001b[39m\u001b[32m, line 1\u001b[39m\n\u001b[31m    \u001b[39m\u001b[31mdata science course = \"pwskills\"\u001b[39m\n         ^\n\u001b[31mSyntaxError\u001b[39m\u001b[31m:\u001b[39m invalid syntax\n"
     ]
    }
   ],
   "source": [
    "data science course = \"pwskills\"\n",
    "data science course"
   ]
  },
  {
   "cell_type": "code",
   "execution_count": 49,
   "id": "89c0d8fb-d686-4c0c-8eee-583e00552c54",
   "metadata": {},
   "outputs": [
    {
     "ename": "SyntaxError",
     "evalue": "invalid syntax. Maybe you meant '==' or ':=' instead of '='? (1584333879.py, line 1)",
     "output_type": "error",
     "traceback": [
      "  \u001b[36mCell\u001b[39m\u001b[36m \u001b[39m\u001b[32mIn[49]\u001b[39m\u001b[32m, line 1\u001b[39m\n\u001b[31m    \u001b[39m\u001b[31m@abc = 2.4\u001b[39m\n     ^\n\u001b[31mSyntaxError\u001b[39m\u001b[31m:\u001b[39m invalid syntax. Maybe you meant '==' or ':=' instead of '='?\n"
     ]
    }
   ],
   "source": [
    "@abc = 2.4\n",
    "@abc"
   ]
  },
  {
   "cell_type": "code",
   "execution_count": 50,
   "id": "87b907ed-ec13-4239-959d-8845a3f9201b",
   "metadata": {},
   "outputs": [
    {
     "name": "stderr",
     "output_type": "stream",
     "text": [
      "UsageError: Line magic function `%a` not found.\n"
     ]
    }
   ],
   "source": [
    "%a = 2\n",
    "%a"
   ]
  },
  {
   "cell_type": "raw",
   "id": "a3697992-97e6-43f7-ad20-96011a62b2c1",
   "metadata": {},
   "source": [
    "Valid ways"
   ]
  },
  {
   "cell_type": "code",
   "execution_count": 30,
   "id": "4692d4ac-5367-403f-83c9-9d12bc8ef500",
   "metadata": {},
   "outputs": [
    {
     "data": {
      "text/plain": [
       "'Sachin Boss'"
      ]
     },
     "execution_count": 30,
     "metadata": {},
     "output_type": "execute_result"
    }
   ],
   "source": [
    "name = \"Sachin Boss\"\n",
    "name"
   ]
  },
  {
   "cell_type": "code",
   "execution_count": 31,
   "id": "c76fb349-c7f3-4a93-bf30-462031a7e8e1",
   "metadata": {},
   "outputs": [
    {
     "data": {
      "text/plain": [
       "str"
      ]
     },
     "execution_count": 31,
     "metadata": {},
     "output_type": "execute_result"
    }
   ],
   "source": [
    "type(name)"
   ]
  },
  {
   "cell_type": "code",
   "execution_count": 33,
   "id": "336cd4ff-c9ee-404d-a682-139944db1950",
   "metadata": {},
   "outputs": [
    {
     "data": {
      "text/plain": [
       "'Devesh Upadhyay'"
      ]
     },
     "execution_count": 33,
     "metadata": {},
     "output_type": "execute_result"
    }
   ],
   "source": [
    "abc = \"Devesh Upadhyay\"\n",
    "abc"
   ]
  },
  {
   "cell_type": "code",
   "execution_count": 34,
   "id": "882eb4a4-90bd-40c9-9401-595491c1689f",
   "metadata": {},
   "outputs": [
    {
     "data": {
      "text/plain": [
       "str"
      ]
     },
     "execution_count": 34,
     "metadata": {},
     "output_type": "execute_result"
    }
   ],
   "source": [
    "type(abc)"
   ]
  },
  {
   "cell_type": "code",
   "execution_count": 35,
   "id": "b0e51dae-d5f1-4f4e-bb06-508cdf861bac",
   "metadata": {},
   "outputs": [
    {
     "data": {
      "text/plain": [
       "2"
      ]
     },
     "execution_count": 35,
     "metadata": {},
     "output_type": "execute_result"
    }
   ],
   "source": [
    "a  = 2\n",
    "a"
   ]
  },
  {
   "cell_type": "code",
   "execution_count": 36,
   "id": "14eda542-054f-41a7-b4b0-aafc7811337b",
   "metadata": {},
   "outputs": [
    {
     "data": {
      "text/plain": [
       "int"
      ]
     },
     "execution_count": 36,
     "metadata": {},
     "output_type": "execute_result"
    }
   ],
   "source": [
    "type(a)"
   ]
  },
  {
   "cell_type": "code",
   "execution_count": 38,
   "id": "c5cb5d31-5e57-4463-a19f-f743c9ef4c94",
   "metadata": {},
   "outputs": [
    {
     "data": {
      "text/plain": [
       "2.3"
      ]
     },
     "execution_count": 38,
     "metadata": {},
     "output_type": "execute_result"
    }
   ],
   "source": [
    "_b = 2.3\n",
    "_b"
   ]
  },
  {
   "cell_type": "code",
   "execution_count": 39,
   "id": "18f29592-1031-4a7c-8c15-026a0e931f5f",
   "metadata": {},
   "outputs": [
    {
     "data": {
      "text/plain": [
       "float"
      ]
     },
     "execution_count": 39,
     "metadata": {},
     "output_type": "execute_result"
    }
   ],
   "source": [
    "type(-b)"
   ]
  },
  {
   "cell_type": "code",
   "execution_count": 40,
   "id": "d363e0d3-e46e-43a4-adea-015fb34828d0",
   "metadata": {},
   "outputs": [
    {
     "data": {
      "text/plain": [
       "'Banglore'"
      ]
     },
     "execution_count": 40,
     "metadata": {},
     "output_type": "execute_result"
    }
   ],
   "source": [
    "location = \"Banglore\"\n",
    "location"
   ]
  },
  {
   "cell_type": "code",
   "execution_count": 41,
   "id": "0630277c-1df3-4975-9c76-9020ea32eb46",
   "metadata": {},
   "outputs": [
    {
     "data": {
      "text/plain": [
       "str"
      ]
     },
     "execution_count": 41,
     "metadata": {},
     "output_type": "execute_result"
    }
   ],
   "source": [
    "type(location)"
   ]
  },
  {
   "cell_type": "code",
   "execution_count": 44,
   "id": "a541ec7f-6332-485d-bf1b-1621457bc6ba",
   "metadata": {},
   "outputs": [
    {
     "data": {
      "text/plain": [
       "'pwskills'"
      ]
     },
     "execution_count": 44,
     "metadata": {},
     "output_type": "execute_result"
    }
   ],
   "source": [
    "data_science = \"pwskills\"\n",
    "data_science"
   ]
  },
  {
   "cell_type": "code",
   "execution_count": 45,
   "id": "7b18eb13-0a18-4531-9aee-75bcf6c172e4",
   "metadata": {},
   "outputs": [
    {
     "data": {
      "text/plain": [
       "str"
      ]
     },
     "execution_count": 45,
     "metadata": {},
     "output_type": "execute_result"
    }
   ],
   "source": [
    "type(data_science)"
   ]
  },
  {
   "cell_type": "code",
   "execution_count": 47,
   "id": "2e664611-0442-4a7e-bc79-f68195853635",
   "metadata": {},
   "outputs": [
    {
     "data": {
      "text/plain": [
       "'pwskills'"
      ]
     },
     "execution_count": 47,
     "metadata": {},
     "output_type": "execute_result"
    }
   ],
   "source": [
    "data_science_course = \"pwskills\"\n",
    "data_science_course"
   ]
  },
  {
   "cell_type": "code",
   "execution_count": 48,
   "id": "e027a5c8-e53b-43b4-94b0-1d44264c1606",
   "metadata": {},
   "outputs": [
    {
     "data": {
      "text/plain": [
       "str"
      ]
     },
     "execution_count": 48,
     "metadata": {},
     "output_type": "execute_result"
    }
   ],
   "source": [
    "type(data_science_course)"
   ]
  },
  {
   "cell_type": "raw",
   "id": "9cfd5411-aca7-4ee9-be63-c29ffde2b1f4",
   "metadata": {},
   "source": [
    "Comments\n",
    "# this is a way to define comments(Single Line comments)\n"
   ]
  },
  {
   "cell_type": "code",
   "execution_count": null,
   "id": "2f0e1ad3-1204-4c8f-95d8-80fa131f4e05",
   "metadata": {},
   "outputs": [],
   "source": [
    "# This is a way to define comments(Single line comments)\n",
    "# a = 5(Integer)\n",
    "# b =5.5(Float)\n",
    "# Multiline comments''' -----------''' or \"\"\" ----- \"\"\"\n",
    "'''\n",
    "this is multiline comments\n",
    "I am a students of data science with generative ai students\n",
    "'''"
   ]
  },
  {
   "cell_type": "code",
   "execution_count": 52,
   "id": "8f12421c-4775-4822-92a0-b326e4eff01b",
   "metadata": {},
   "outputs": [
    {
     "data": {
      "text/plain": [
       "5"
      ]
     },
     "execution_count": 52,
     "metadata": {},
     "output_type": "execute_result"
    }
   ],
   "source": [
    "# this is a lecture on variable - single line comments\n",
    "a = 5\n",
    "a"
   ]
  },
  {
   "cell_type": "code",
   "execution_count": 58,
   "id": "6b062436-2dae-4ef9-b9f4-25445929f197",
   "metadata": {},
   "outputs": [
    {
     "data": {
      "text/plain": [
       "4"
      ]
     },
     "execution_count": 58,
     "metadata": {},
     "output_type": "execute_result"
    }
   ],
   "source": [
    "#multiline comments\n",
    "''' \n",
    "a = 3\n",
    "b = 4.5\n",
    "c = \" Devesh\"\n",
    "'''\n",
    "d = 4\n",
    "d"
   ]
  },
  {
   "cell_type": "code",
   "execution_count": 60,
   "id": "7bf9a57c-240a-446b-bf29-a8a5b9ab0c73",
   "metadata": {},
   "outputs": [
    {
     "name": "stdout",
     "output_type": "stream",
     "text": [
      "hello world\n"
     ]
    },
    {
     "data": {
      "text/plain": [
       "int"
      ]
     },
     "execution_count": 60,
     "metadata": {},
     "output_type": "execute_result"
    }
   ],
   "source": [
    "print (\"hello world\")\n",
    "type(d) \n",
    "# print and type are keywords\n"
   ]
  },
  {
   "cell_type": "raw",
   "id": "76898388-ffbb-4839-ae2f-1df6a5fa94df",
   "metadata": {},
   "source": [
    "keywords are pre- define words that hold a special meaning and have specific purpose in ython programming\n"
   ]
  },
  {
   "cell_type": "code",
   "execution_count": 62,
   "id": "fa4f00e6-db89-46d1-8832-940413b1ab29",
   "metadata": {},
   "outputs": [
    {
     "name": "stdout",
     "output_type": "stream",
     "text": [
      "\n",
      "Here is a list of the Python keywords.  Enter any keyword to get more help.\n",
      "\n",
      "False               class               from                or\n",
      "None                continue            global              pass\n",
      "True                def                 if                  raise\n",
      "and                 del                 import              return\n",
      "as                  elif                in                  try\n",
      "assert              else                is                  while\n",
      "async               except              lambda              with\n",
      "await               finally             nonlocal            yield\n",
      "break               for                 not                 \n",
      "\n"
     ]
    }
   ],
   "source": [
    "help('keywords')"
   ]
  },
  {
   "cell_type": "code",
   "execution_count": 63,
   "id": "cece1586-7afc-4a67-8414-a89af456a195",
   "metadata": {},
   "outputs": [
    {
     "name": "stdout",
     "output_type": "stream",
     "text": [
      "Greater\n"
     ]
    }
   ],
   "source": [
    "# Indentation  - It is specific way to writing python code\n",
    "# more readable and more beautiful\n",
    "if 9>8:\n",
    "    print(\"Greater\")"
   ]
  },
  {
   "cell_type": "code",
   "execution_count": null,
   "id": "38501aa4-2273-45af-a3c1-45bf4ae6b1ac",
   "metadata": {},
   "outputs": [],
   "source": [
    " a = 3 # Statement >> fundamental block of code\n",
    "name = \" Devesh\"\n",
    "# Statement can be many type >> expression ,assignment ,condition statement ,loop statement "
   ]
  },
  {
   "cell_type": "code",
   "execution_count": 65,
   "id": "e4746816-b4f2-45c1-81d4-fe3cbec219fc",
   "metadata": {},
   "outputs": [
    {
     "data": {
      "text/plain": [
       "11"
      ]
     },
     "execution_count": 65,
     "metadata": {},
     "output_type": "execute_result"
    }
   ],
   "source": [
    "# Assigment Statement\n",
    "a = 5\n",
    "b = 6 \n",
    "a+b # expression Statement\n"
   ]
  },
  {
   "cell_type": "code",
   "execution_count": 69,
   "id": "89bd4151-d51f-4b51-a9e9-16fdb052ce90",
   "metadata": {},
   "outputs": [
    {
     "name": "stdin",
     "output_type": "stream",
     "text": [
      "Please enter your name: 2\n"
     ]
    }
   ],
   "source": [
    "# input and output >>> if you want some user  to give value of variable enter\n",
    "name = input(\"Please enter your name:\") "
   ]
  },
  {
   "cell_type": "code",
   "execution_count": 70,
   "id": "1f49d40a-916a-4ef3-b3c1-3cc90a99b3e3",
   "metadata": {},
   "outputs": [
    {
     "data": {
      "text/plain": [
       "'2'"
      ]
     },
     "execution_count": 70,
     "metadata": {},
     "output_type": "execute_result"
    }
   ],
   "source": [
    "name"
   ]
  },
  {
   "cell_type": "code",
   "execution_count": 71,
   "id": "7077e09f-afe7-4b4d-9452-f2decd8282d8",
   "metadata": {},
   "outputs": [
    {
     "data": {
      "text/plain": [
       "str"
      ]
     },
     "execution_count": 71,
     "metadata": {},
     "output_type": "execute_result"
    }
   ],
   "source": [
    "type(name)"
   ]
  },
  {
   "cell_type": "code",
   "execution_count": null,
   "id": "cf54e59c-5d42-4eff-8348-013ef1b33c95",
   "metadata": {},
   "outputs": [],
   "source": [
    "# input actually take every value as a string\n",
    "# we can convert '2' as int"
   ]
  },
  {
   "cell_type": "code",
   "execution_count": 72,
   "id": "0508592d-792e-47fd-81c5-ae903623b44b",
   "metadata": {},
   "outputs": [
    {
     "data": {
      "text/plain": [
       "2"
      ]
     },
     "execution_count": 72,
     "metadata": {},
     "output_type": "execute_result"
    }
   ],
   "source": [
    "# type casting > cast means to change the format\n",
    "int(name)"
   ]
  },
  {
   "cell_type": "code",
   "execution_count": 73,
   "id": "cf00e6ab-3e96-4ef9-a79c-d7d6f683edb6",
   "metadata": {},
   "outputs": [],
   "source": [
    "name = int(name)"
   ]
  },
  {
   "cell_type": "code",
   "execution_count": 74,
   "id": "85b631ff-d1ab-4353-aea6-e6c660464a14",
   "metadata": {},
   "outputs": [
    {
     "data": {
      "text/plain": [
       "int"
      ]
     },
     "execution_count": 74,
     "metadata": {},
     "output_type": "execute_result"
    }
   ],
   "source": [
    "type(name)"
   ]
  },
  {
   "cell_type": "code",
   "execution_count": 75,
   "id": "e9d4f2cd-40e5-4921-98d6-72eec79e2868",
   "metadata": {},
   "outputs": [
    {
     "data": {
      "text/plain": [
       "str"
      ]
     },
     "execution_count": 75,
     "metadata": {},
     "output_type": "execute_result"
    }
   ],
   "source": [
    "a = \"3.5\"\n",
    "type(a)"
   ]
  },
  {
   "cell_type": "code",
   "execution_count": 76,
   "id": "2547459f-257a-4021-9907-c92cc060a51c",
   "metadata": {},
   "outputs": [
    {
     "data": {
      "text/plain": [
       "3.5"
      ]
     },
     "execution_count": 76,
     "metadata": {},
     "output_type": "execute_result"
    }
   ],
   "source": [
    "float(a)"
   ]
  },
  {
   "cell_type": "code",
   "execution_count": 77,
   "id": "f1043740-de49-495e-a770-a611d04a871d",
   "metadata": {},
   "outputs": [
    {
     "data": {
      "text/plain": [
       "float"
      ]
     },
     "execution_count": 77,
     "metadata": {},
     "output_type": "execute_result"
    }
   ],
   "source": [
    "type(float(a))"
   ]
  },
  {
   "cell_type": "code",
   "execution_count": 78,
   "id": "d976746f-4204-43b9-9842-4c6020c24829",
   "metadata": {},
   "outputs": [
    {
     "data": {
      "text/plain": [
       "str"
      ]
     },
     "execution_count": 78,
     "metadata": {},
     "output_type": "execute_result"
    }
   ],
   "source": [
    " s = \"111\"\n",
    "type(s)\n"
   ]
  },
  {
   "cell_type": "code",
   "execution_count": 79,
   "id": "128d6738-5a7c-4c21-bb9d-1eec686a1ee9",
   "metadata": {},
   "outputs": [
    {
     "data": {
      "text/plain": [
       "111"
      ]
     },
     "execution_count": 79,
     "metadata": {},
     "output_type": "execute_result"
    }
   ],
   "source": [
    "int(s)"
   ]
  },
  {
   "cell_type": "code",
   "execution_count": 80,
   "id": "7a8393ba-e987-42d1-b572-cedcfab6af40",
   "metadata": {},
   "outputs": [
    {
     "data": {
      "text/plain": [
       "111.0"
      ]
     },
     "execution_count": 80,
     "metadata": {},
     "output_type": "execute_result"
    }
   ],
   "source": [
    "float(s)"
   ]
  },
  {
   "cell_type": "code",
   "execution_count": 81,
   "id": "b8f8af71-c6ab-4eb4-9b64-7b56c55d0cc4",
   "metadata": {},
   "outputs": [
    {
     "data": {
      "text/plain": [
       "'111'"
      ]
     },
     "execution_count": 81,
     "metadata": {},
     "output_type": "execute_result"
    }
   ],
   "source": [
    "str(s)"
   ]
  },
  {
   "cell_type": "code",
   "execution_count": 82,
   "id": "64f034ff-2ee9-44a1-9a6a-779f85047362",
   "metadata": {},
   "outputs": [
    {
     "data": {
      "text/plain": [
       "int"
      ]
     },
     "execution_count": 82,
     "metadata": {},
     "output_type": "execute_result"
    }
   ],
   "source": [
    "a = 123\n",
    "type(a)"
   ]
  },
  {
   "cell_type": "code",
   "execution_count": 83,
   "id": "7b611762-2d7e-4113-b74c-e8e606a17f9e",
   "metadata": {},
   "outputs": [
    {
     "data": {
      "text/plain": [
       "'123'"
      ]
     },
     "execution_count": 83,
     "metadata": {},
     "output_type": "execute_result"
    }
   ],
   "source": [
    "str(a)"
   ]
  },
  {
   "cell_type": "code",
   "execution_count": 84,
   "id": "df3fd1c0-4854-44cd-b4e0-2ca34bee32d7",
   "metadata": {},
   "outputs": [
    {
     "data": {
      "text/plain": [
       "123.0"
      ]
     },
     "execution_count": 84,
     "metadata": {},
     "output_type": "execute_result"
    }
   ],
   "source": [
    "float(a)"
   ]
  },
  {
   "cell_type": "code",
   "execution_count": 86,
   "id": "f294936b-1c52-469e-8756-1aeea4eb6bf6",
   "metadata": {},
   "outputs": [
    {
     "data": {
      "text/plain": [
       "True"
      ]
     },
     "execution_count": 86,
     "metadata": {},
     "output_type": "execute_result"
    }
   ],
   "source": [
    "bool(1)"
   ]
  },
  {
   "cell_type": "code",
   "execution_count": 87,
   "id": "2921da22-7237-4f85-889c-a7f54454cc70",
   "metadata": {},
   "outputs": [
    {
     "data": {
      "text/plain": [
       "False"
      ]
     },
     "execution_count": 87,
     "metadata": {},
     "output_type": "execute_result"
    }
   ],
   "source": [
    "bool(0)"
   ]
  },
  {
   "cell_type": "code",
   "execution_count": 88,
   "id": "299339f8-1c2b-442e-864e-e49912d8a993",
   "metadata": {},
   "outputs": [
    {
     "ename": "ValueError",
     "evalue": "invalid literal for int() with base 10: 'Anjay'",
     "output_type": "error",
     "traceback": [
      "\u001b[31m---------------------------------------------------------------------------\u001b[39m",
      "\u001b[31mValueError\u001b[39m                                Traceback (most recent call last)",
      "\u001b[36mCell\u001b[39m\u001b[36m \u001b[39m\u001b[32mIn[88]\u001b[39m\u001b[32m, line 2\u001b[39m\n\u001b[32m      1\u001b[39m a = \u001b[33m\"\u001b[39m\u001b[33mAnjay\u001b[39m\u001b[33m\"\u001b[39m\n\u001b[32m----> \u001b[39m\u001b[32m2\u001b[39m \u001b[38;5;28;43mint\u001b[39;49m\u001b[43m(\u001b[49m\u001b[43ma\u001b[49m\u001b[43m)\u001b[49m\n",
      "\u001b[31mValueError\u001b[39m: invalid literal for int() with base 10: 'Anjay'"
     ]
    }
   ],
   "source": [
    "a = \"Anjay\"\n",
    "int(a)"
   ]
  },
  {
   "cell_type": "code",
   "execution_count": 90,
   "id": "4fab83b2-7795-4c02-8956-c9726de6f2f2",
   "metadata": {},
   "outputs": [
    {
     "name": "stdout",
     "output_type": "stream",
     "text": [
      "hello\n"
     ]
    }
   ],
   "source": [
    "# variables can not be keywords\n",
    "print(\"hello\")"
   ]
  },
  {
   "cell_type": "code",
   "execution_count": 91,
   "id": "3d83a840-cf22-4756-bb35-a2570ca42d2d",
   "metadata": {},
   "outputs": [],
   "source": [
    "print = \"Devesh\""
   ]
  },
  {
   "cell_type": "code",
   "execution_count": null,
   "id": "75eeb376-f597-4f57-9acc-fa8e574ecc04",
   "metadata": {},
   "outputs": [],
   "source": []
  }
 ],
 "metadata": {
  "kernelspec": {
   "display_name": "Python 3 (ipykernel)",
   "language": "python",
   "name": "python3"
  },
  "language_info": {
   "codemirror_mode": {
    "name": "ipython",
    "version": 3
   },
   "file_extension": ".py",
   "mimetype": "text/x-python",
   "name": "python",
   "nbconvert_exporter": "python",
   "pygments_lexer": "ipython3",
   "version": "3.13.2"
  }
 },
 "nbformat": 4,
 "nbformat_minor": 5
}
